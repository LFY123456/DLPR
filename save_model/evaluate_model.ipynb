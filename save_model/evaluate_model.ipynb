{
 "cells": [
  {
   "cell_type": "code",
   "execution_count": 1,
   "outputs": [],
   "source": [
    "import torch\n",
    "from collections import defaultdict\n",
    "import numpy as np\n",
    "from utils import metrics"
   ],
   "metadata": {
    "collapsed": false,
    "pycharm": {
     "name": "#%%\n"
    }
   }
  },
  {
   "cell_type": "code",
   "execution_count": 2,
   "outputs": [],
   "source": [
    "def model_pred(model, testdata, K, test_num_neg=99):\n",
    "\tmodel.eval()\n",
    "\tmodel = model.cpu()\n",
    "\n",
    "\tndcg = np.zeros(K)\n",
    "\trecall_matrix = np.zeros(len(cut_offs))\n",
    "\tmap_matrix = np.zeros(len(cut_offs))\n",
    "\tauc_value = 0\n",
    "\tmrr_value = 0\n",
    "\n",
    "\twith torch.no_grad():\n",
    "\t\tfor u in testdata.keys():\n",
    "\t\t\titems = testdata[u]\n",
    "\t\t\tlabel = np.array([1] + [0] * test_num_neg)\n",
    "\t\t\tpred = model(torch.tensor(u), torch.tensor(items))\n",
    "\t\t\trecall, ap, mrr, auc = metrics.map_recall_at_k(label, pred.detach().numpy(), cut_offs)\n",
    "\t\t\trecall_matrix += recall\n",
    "\t\t\tmap_matrix += ap\n",
    "\t\t\tmrr_value += mrr\n",
    "\t\t\tndcg += metrics.normalized_discounted_cumulative_gain_matrix(K, label, pred.detach().numpy())\n",
    "\t\t\tauc_value += auc\n",
    "\tuser_count = len(testdata)\n",
    "\tprint('test ndcg = ', ndcg / user_count)\n",
    "\tprint('test recall = ', recall_matrix / user_count)\n",
    "\tprint('test map = ', map_matrix / user_count)\n",
    "\tprint('test AUC = ', auc_value / user_count)\n",
    "\tprint('test MRR = ', mrr_value / user_count)"
   ],
   "metadata": {
    "collapsed": false,
    "pycharm": {
     "name": "#%%\n"
    }
   }
  },
  {
   "cell_type": "code",
   "execution_count": 3,
   "outputs": [
    {
     "name": "stdout",
     "output_type": "stream",
     "text": [
      "--------------load test data--------------\n",
      "--------------test--------------\n",
      "------------------load model------------------\n"
     ]
    },
    {
     "name": "stderr",
     "output_type": "stream",
     "text": [
      "E:\\ProgramData\\Miniconda3\\lib\\site-packages\\torch\\serialization.py:671: SourceChangeWarning: source code of class 'utils.model.MF' has changed. you can retrieve the original source code by accessing the object's source attribute or set `torch.nn.Module.dump_patches = True` and use the patch tool to revert the changes.\n",
      "  warnings.warn(msg, SourceChangeWarning)\n",
      "E:\\ProgramData\\Miniconda3\\lib\\site-packages\\torch\\serialization.py:671: SourceChangeWarning: source code of class 'torch.nn.modules.sparse.Embedding' has changed. you can retrieve the original source code by accessing the object's source attribute or set `torch.nn.Module.dump_patches = True` and use the patch tool to revert the changes.\n",
      "  warnings.warn(msg, SourceChangeWarning)\n"
     ]
    },
    {
     "name": "stdout",
     "output_type": "stream",
     "text": [
      "MF(\n",
      "  (user_emb): Embedding(5551, 8)\n",
      "  (item_emb): Embedding(16980, 8)\n",
      ")\n",
      "test ndcg =  [0.14555361 0.18287656 0.20194642 0.21351158 0.22307187 0.23069646\n",
      " 0.23620985 0.24081384 0.24426991 0.24803861]\n",
      "test recall =  [0.20470909 0.26970228 0.3158202  0.34695466 0.37147305 0.44872543\n",
      " 0.51488616]\n",
      "test map =  [0.17513135 0.19455796 0.20306804 0.20725521 0.20983461 0.21580968\n",
      " 0.21954434]\n",
      "test AUC =  0.7425451243314667\n",
      "test MRR =  0.23171079239197856\n",
      "============================================================\n"
     ]
    }
   ],
   "source": [
    "if __name__ == '__main__':\n",
    "\ttestpath = 'E:/Lab/code_data/data/citeulike-a-master/processed_data/citeulike_test.csv'\n",
    "\tK = 10\n",
    "\tcut_offs = [2,4,6,8,10,15,20]\n",
    "\n",
    "\tprint('--------------load test data--------------')\n",
    "\ttest_data = defaultdict()\n",
    "\twith open(testpath, 'r') as fd:\n",
    "\t\tline = fd.readline()\n",
    "\t\twhile line != None and line != '':\n",
    "\t\t\tarr = line.split(',')\n",
    "\t\t\tu = int(arr[0])\n",
    "\t\t\titems = []\n",
    "\t\t\tfor i in arr[1:]:\n",
    "\t\t\t\titems.append(int(i))\n",
    "\t\t\ttest_data[u] = items\n",
    "\t\t\tline = fd.readline()\n",
    "\n",
    "\tprint('--------------test--------------')\n",
    "\tmodelpath = '../save_model/citeulike/CiteULike_DLPR_embsize_8_K_10_zetastep_0.2_maxiter_10_tau_10.pkl'\n",
    "\tprint('------------------load model------------------')\n",
    "\tmodel = torch.load(modelpath, map_location=torch.device('cpu'))\n",
    "\tprint(model)\n",
    "\tmodel_pred(model, test_data, K)\n",
    "\tprint('=='*30)"
   ],
   "metadata": {
    "collapsed": false,
    "pycharm": {
     "name": "#%%\n"
    }
   }
  },
  {
   "cell_type": "code",
   "execution_count": null,
   "outputs": [],
   "source": [],
   "metadata": {
    "collapsed": false,
    "pycharm": {
     "name": "#%%\n"
    }
   }
  }
 ],
 "metadata": {
  "kernelspec": {
   "display_name": "Python 3",
   "language": "python",
   "name": "python3"
  },
  "language_info": {
   "codemirror_mode": {
    "name": "ipython",
    "version": 2
   },
   "file_extension": ".py",
   "mimetype": "text/x-python",
   "name": "python",
   "nbconvert_exporter": "python",
   "pygments_lexer": "ipython2",
   "version": "2.7.6"
  }
 },
 "nbformat": 4,
 "nbformat_minor": 0
}